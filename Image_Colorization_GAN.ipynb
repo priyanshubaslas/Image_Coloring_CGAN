{
  "nbformat": 4,
  "nbformat_minor": 0,
  "metadata": {
    "colab": {
      "name": "VLG_conditional_GAN",
      "provenance": []
    },
    "kernelspec": {
      "name": "python3",
      "display_name": "Python 3"
    },
    "language_info": {
      "name": "python"
    },
    "accelerator": "GPU",
    "gpuClass": "standard"
  },
  "cells": [
    {
      "cell_type": "code",
      "execution_count": 1,
      "metadata": {
        "id": "yDEGadSLSC2Y"
      },
      "outputs": [],
      "source": [
        "import torch\n",
        "import torch.nn as nn\n",
        "from PIL import Image\n",
        "from torch.utils.data import Dataset\n",
        "import numpy as np\n",
        "import os\n",
        "torch.manual_seed(0)\n",
        "from tqdm.auto import tqdm\n",
        "from torchvision import transforms\n",
        "from torchvision.utils import make_grid\n",
        "from torch.utils.data import DataLoader\n",
        "import matplotlib.pyplot as plt\n",
        "import skimage\n",
        "import cv2\n",
        "from skimage import io, color"
      ]
    },
    {
      "cell_type": "code",
      "source": [
        "class ConvBlock(nn.Module):\n",
        "    def __init__(self, in_channels, out_channels, stride = 2, use_dropout = False, use_bn = False):\n",
        "        super(ConvBlock, self).__init__()\n",
        "        self.conv = nn.Conv2d(in_channels, out_channels, kernel_size= 4, stride = stride, padding = 1, padding_mode = \"reflect\")\n",
        "        self.activation = nn.LeakyReLU(0.2)\n",
        "\n",
        "        if use_bn == True:\n",
        "            self.bn = nn.BatchNorm2d(out_channels)\n",
        "        self.use_bn = use_bn\n",
        "        if use_dropout == True:\n",
        "            self.drop = nn.Dropout()\n",
        "        self.use_dropout = use_dropout\n",
        "\n",
        "    def forward(self, x):\n",
        "\n",
        "        x = self.conv(x)\n",
        "        if self.use_bn:\n",
        "            x = self.bn(x)\n",
        "        x = self.activation(x)\n",
        "        if self.use_dropout:\n",
        "            x = self.drop(x)\n",
        "        return x"
      ],
      "metadata": {
        "id": "LqBUC7DqSOQt"
      },
      "execution_count": 2,
      "outputs": []
    },
    {
      "cell_type": "code",
      "source": [
        "class Discriminator(nn.Module):\n",
        "    def __init__(self, in_channels = 3, hidden_channels = 64):\n",
        "        super(Discriminator, self).__init__()\n",
        "\n",
        "        self.initial = ConvBlock(in_channels, hidden_channels)\n",
        "\n",
        "        self.block1 = ConvBlock(hidden_channels, hidden_channels*2, use_bn= True) #64 -> 128\n",
        "        self.block2 = ConvBlock(hidden_channels*2, hidden_channels*4, use_bn= True) #128 -> 256\n",
        "        self.block3 = ConvBlock(hidden_channels*4, hidden_channels*8, use_bn= True) #256 -> 512\n",
        "        self.block4 = ConvBlock(hidden_channels*8, hidden_channels*8, use_bn= True, stride = 1) #512\n",
        "        #self.block5 = ConvBlock(hidden_channels*8, hidden_channels*8, use_bn= True, stride = 1) \n",
        "        #512\n",
        "        self.final = nn.Conv2d(hidden_channels * 8, 1, kernel_size=1, padding= 1, padding_mode=\"reflect\")\n",
        "        self.sigmoid = nn.Sigmoid()\n",
        "    \n",
        "    def forward(self, x, y):\n",
        "        x = torch.cat([x, y], axis=1)\n",
        "        x0 = self.initial(x)\n",
        "        x1 = self.block1(x0)\n",
        "        x2 = self.block2(x1)\n",
        "        x3 = self.block3(x2)\n",
        "        x4 = self.block4(x3)\n",
        "        #x5 = self.block5(x4)\n",
        "        x6 = self.final(x4)\n",
        "        xn = self.sigmoid(x6)\n",
        "        return xn"
      ],
      "metadata": {
        "id": "FWONdCeoSQk_"
      },
      "execution_count": 3,
      "outputs": []
    },
    {
      "cell_type": "code",
      "source": [
        "def test():\n",
        "    x = torch.randn((2,3,256,256))\n",
        "    y = torch.randn((2,3,256,256))\n",
        "\n",
        "    model = Discriminator(6)\n",
        "    pred = model(x,y)\n",
        "    print(pred.shape)\n",
        "\n",
        "test()"
      ],
      "metadata": {
        "colab": {
          "base_uri": "https://localhost:8080/"
        },
        "id": "gRdFtLBfSS-I",
        "outputId": "0ac9c874-1230-40ed-de67-9a0c41521d0b"
      },
      "execution_count": 4,
      "outputs": [
        {
          "output_type": "stream",
          "name": "stdout",
          "text": [
            "torch.Size([2, 1, 17, 17])\n"
          ]
        }
      ]
    },
    {
      "cell_type": "code",
      "source": [
        "import urllib.request\n",
        "url = 'http://images.cocodataset.org/zips/test2017.zip'\n",
        "filename = 'coco.zip'\n",
        "urllib.request.urlretrieve(url, filename)"
      ],
      "metadata": {
        "id": "fYsaxqarSXsX"
      },
      "execution_count": null,
      "outputs": []
    },
    {
      "cell_type": "code",
      "source": [
        "import zipfile\n",
        "import os\n",
        "with zipfile.ZipFile(\"coco.zip\",\"r\") as zip_ref:\n",
        "        zip_ref.extractall(\"./images\")"
      ],
      "metadata": {
        "id": "vf3xLIOiSd6t"
      },
      "execution_count": null,
      "outputs": []
    },
    {
      "cell_type": "code",
      "source": [
        "len(os.listdir('./images/test2017'))"
      ],
      "metadata": {
        "id": "wZqcJjcPSeHD"
      },
      "execution_count": null,
      "outputs": []
    },
    {
      "cell_type": "code",
      "source": [
        "class DecodeBlock(nn.Module):\n",
        "    def __init__(self, in_channels, out_channels, use_dropout=False, use_bn=False, stride = 2):\n",
        "        super(DecodeBlock, self).__init__()\n",
        "        self.up = nn.ConvTranspose2d(in_channels, out_channels, kernel_size=4, stride=stride, padding = 1)\n",
        "\n",
        "        self.activation = nn.ReLU()\n",
        "\n",
        "        if use_bn == True:\n",
        "            self.bn = nn.BatchNorm2d(out_channels)\n",
        "        self.use_bn = use_bn\n",
        "\n",
        "        if use_dropout == True:\n",
        "            self.drop = nn.Dropout()\n",
        "        self.use_dropout = use_dropout\n",
        "\n",
        "    def forward(self, x):\n",
        "        x = self.up(x)\n",
        "        if self.use_bn:\n",
        "            x = self.bn(x)\n",
        "        x = self.activation(x)\n",
        "        if self.use_dropout:\n",
        "            x = self.drop(x)\n",
        "        return x"
      ],
      "metadata": {
        "id": "7iiMcZvpSm6L"
      },
      "execution_count": null,
      "outputs": []
    },
    {
      "cell_type": "code",
      "source": [
        "class Generator(nn.Module):\n",
        "    def __init__(self, in_channels, hidden_channels = 64, out_channels = 2):\n",
        "        super(Generator, self).__init__()\n",
        "\n",
        "        self.initial = ConvBlock(in_channels, hidden_channels)\n",
        "        self.contract1 = ConvBlock(hidden_channels, hidden_channels*2, use_bn=True, use_dropout=False)\n",
        "        self.contract2 = ConvBlock(hidden_channels*2, hidden_channels*4, use_bn=True, use_dropout=False)\n",
        "        self.contract3 = ConvBlock(hidden_channels*4, hidden_channels*8, use_bn=True, use_dropout=False)\n",
        "        self.contract4 = ConvBlock(hidden_channels*8, hidden_channels*8, use_bn=True, use_dropout=False)\n",
        "        self.contract5 = ConvBlock(hidden_channels*8, hidden_channels*8, use_bn=True, use_dropout=False)\n",
        "        self.contract6= ConvBlock(hidden_channels*8, hidden_channels*8, use_bn=True, use_dropout=False)\n",
        "        self.contract7 = ConvBlock(hidden_channels*8, hidden_channels*8, use_bn=False, use_dropout=False)\n",
        "\n",
        "        hidden_channels = hidden_channels*8\n",
        "        self.expand1 = DecodeBlock(hidden_channels, hidden_channels, use_dropout=True, use_bn=True)\n",
        "        self.expand2 = DecodeBlock(hidden_channels*2, hidden_channels, use_dropout=True, use_bn=True)\n",
        "        self.expand3 = DecodeBlock(hidden_channels*2, hidden_channels, use_dropout=True, use_bn=True)\n",
        "        self.expand4 = DecodeBlock(hidden_channels*2, hidden_channels, use_dropout=False, use_bn=True)\n",
        "        self.expand5 = DecodeBlock(hidden_channels*2, hidden_channels//2, use_dropout=False, use_bn=True)\n",
        "        self.expand6 = DecodeBlock(hidden_channels, hidden_channels//4, use_dropout=False, use_bn=True)\n",
        "        self.expand7 = DecodeBlock(hidden_channels//2, hidden_channels//8, use_dropout=False, use_bn=True)\n",
        "        #self.final_up = DecodeBlock(hidden_channels//4, hidden_channels//8, use_dropout=False, use_bn=False, stride  = 2)\n",
        "        self.final = nn.Sequential(\n",
        "            nn.ConvTranspose2d(hidden_channels//4, out_channels, kernel_size=4, stride=2, padding=1),\n",
        "            nn.Tanh(),\n",
        "        )\n",
        "    \n",
        "\n",
        "    def forward(self, x):\n",
        "        x0 = self.initial(x)\n",
        "        x1 = self.contract1(x0)\n",
        "        x2 = self.contract2(x1)\n",
        "        x3 = self.contract3(x2)\n",
        "        x4 = self.contract4(x3)\n",
        "        x5 = self.contract5(x4)\n",
        "        x6 = self.contract6(x5)\n",
        "        x7 = self.contract7(x6)\n",
        "        x8 = self.expand1(x7)\n",
        "        x9 = self.expand2(torch.cat([x8, x6], axis= 1))\n",
        "        x10 = self.expand3(torch.cat([x9, x5], axis= 1))\n",
        "        x11 = self.expand4(torch.cat([x10, x4], axis= 1))\n",
        "        x12 = self.expand5(torch.cat([x11, x3], axis= 1))\n",
        "        x13 = self.expand6(torch.cat([x12, x2], axis= 1))\n",
        "        x14 = self.expand7(torch.cat([x13, x1], axis= 1))\n",
        "        #x15 = self.final_up(torch.cat([x14, x0], axis= 1))\n",
        "        return self.final(torch.cat([x14, x0], axis= 1))"
      ],
      "metadata": {
        "id": "uQEpkwKVSqR8"
      },
      "execution_count": null,
      "outputs": []
    },
    {
      "cell_type": "code",
      "source": [
        "def test_gen():\n",
        "    x = torch.randn((2,1,256,256))\n",
        "\n",
        "    model = Generator(1, out_channels=2)\n",
        "    pred = model(x)\n",
        "    print(pred.shape)\n",
        "\n",
        "test_gen()"
      ],
      "metadata": {
        "id": "ziDydjNqSuy-"
      },
      "execution_count": null,
      "outputs": []
    },
    {
      "cell_type": "code",
      "source": [
        "transform = transforms.Compose([\n",
        "    transforms.Resize([256,256]),\n",
        "    transforms.RandomHorizontalFlip(0.2),\n",
        "    transforms.RandomVerticalFlip(0.2),\n",
        "    #transforms.Normalize((0.5,0.5,0.5), (0.5,0.5,0.5))\n",
        "    #transforms.ToTensor(),\n",
        "])"
      ],
      "metadata": {
        "id": "iw0HbdhiSu6v"
      },
      "execution_count": null,
      "outputs": []
    },
    {
      "cell_type": "code",
      "source": [
        "class ColorDataset(Dataset):\n",
        "\n",
        "    def __init__(self, root_dir, transform=None):\n",
        "        \n",
        "        self.root_dir = root_dir\n",
        "        self.list_files = os.listdir(self.root_dir)\n",
        "        self.transform = transform\n",
        "\n",
        "\n",
        "    def __len__(self):\n",
        "        return len(self.list_files)\n",
        "\n",
        "    def __getitem__(self, idx):\n",
        "        if torch.is_tensor(idx):\n",
        "            idx = idx.tolist()\n",
        "\n",
        "        img_file = self.list_files[idx]\n",
        "        img_path = os.path.join(self.root_dir, img_file)\n",
        "\n",
        "        sample = Image.open(img_path).convert('RGB')\n",
        "        if self.transform:\n",
        "            sample = self.transform(sample)\n",
        "\n",
        "        sample = np.asarray(sample).reshape(256,256,3)\n",
        "\n",
        "        lab = (color.rgb2lab(sample) +128)/255\n",
        "        lab = lab[:,:,1:3].transpose((2,0,1))\n",
        "\n",
        "        gray = color.rgb2gray(sample)\n",
        "\n",
        "        sample = torch.from_numpy(lab)\n",
        "        gray = torch.from_numpy(gray).unsqueeze(0)\n",
        "\n",
        "        return sample.float(), gray.float()"
      ],
      "metadata": {
        "id": "3pI2lgHhSy36"
      },
      "execution_count": null,
      "outputs": []
    },
    {
      "cell_type": "code",
      "source": [
        "dataset = ColorDataset(\"./images/test2017\", transform=transform)"
      ],
      "metadata": {
        "id": "XVQ2zVjDSy_m"
      },
      "execution_count": null,
      "outputs": []
    },
    {
      "cell_type": "code",
      "source": [
        "for _ in range(5):\n",
        "    dataloader = DataLoader(dataset, batch_size=1, shuffle=True)\n",
        "    #train_features = nn.functional.interpolate(next(iter(dataloader)), size=256)\n",
        "    img, gray = next(iter(dataloader))\n",
        "    print(f\"AB size: {img.size()}\")\n",
        "    print(f\"Gray size: {gray.size()}\")"
      ],
      "metadata": {
        "id": "gtqC8GhAS5Y9"
      },
      "execution_count": null,
      "outputs": []
    },
    {
      "cell_type": "code",
      "source": [
        "class UnNormalize(object):\n",
        "    def __init__(self,mean,std):\n",
        "        self.mean = mean\n",
        "        self.std = std\n",
        "        self.to_tensor = transforms.ToTensor()\n",
        "\n",
        "    def __call__(self, tensor):\n",
        "        for t,m,s in zip(self.to_tensor(tensor), self.mean, self.std):\n",
        "            t.mul_(s).add_(m)\n",
        "        return tensor.numpy().reshape(256,256,3)"
      ],
      "metadata": {
        "id": "sK_Dad6FS5hk"
      },
      "execution_count": null,
      "outputs": []
    },
    {
      "cell_type": "code",
      "source": [
        "adv_criterion = nn.BCEWithLogitsLoss() \n",
        "recon_criterion = nn.L1Loss() \n",
        "lambda_recon = 200\n",
        "\n",
        "n_epochs = 50\n",
        "input_dim = 1\n",
        "output_dim = 2\n",
        "real_dim = 3\n",
        "display_step = 200\n",
        "batch_size = 4\n",
        "lr = 0.0002\n",
        "target_shape = 256\n",
        "device = 'cuda'"
      ],
      "metadata": {
        "id": "wiranadqTBWQ"
      },
      "execution_count": null,
      "outputs": []
    },
    {
      "cell_type": "code",
      "source": [
        "gen = Generator(input_dim, real_dim).to(device)\n",
        "gen_opt = torch.optim.Adam(gen.parameters(), lr=lr)\n",
        "disc = Discriminator(input_dim + output_dim).to(device)\n",
        "disc_opt = torch.optim.Adam(disc.parameters(), lr=lr)\n",
        "\n",
        "def weights_init(m):\n",
        "    if isinstance(m, nn.Conv2d) or isinstance(m, nn.ConvTranspose2d):\n",
        "        torch.nn.init.normal_(m.weight, 0.0, 0.02)\n",
        "    if isinstance(m, nn.BatchNorm2d):\n",
        "        torch.nn.init.normal_(m.weight, 0.0, 0.02)\n",
        "        torch.nn.init.constant_(m.bias, 0)\n",
        "\n",
        "# Feel free to change pretrained to False if you're training the model from scratch\n",
        "gen = gen.apply(weights_init)\n",
        "disc = disc.apply(weights_init)"
      ],
      "metadata": {
        "id": "QnNtkXbNTGkM"
      },
      "execution_count": null,
      "outputs": []
    },
    {
      "cell_type": "code",
      "source": [
        "dataloader = DataLoader(dataset, batch_size=1, shuffle=True)\n",
        "img, gray = next(iter(dataloader))\n",
        "#print(img.shape)\n",
        "#print(gray.shape)\n",
        "fake = gen(gray.to(device))\n",
        "x = torch.cat((gray[0],fake.detach().cpu()[0]),0).numpy().transpose((1,2,0))\n",
        "x[:,:,0:1] = x[:, :, 0:1] * 100\n",
        "x[:, :, 1:3] = x[:, :, 1:3] * 255 - 128 \n",
        " \n",
        "x = color.lab2rgb(x.astype(np.float64))\n",
        "print(x.shape)\n",
        "plt.imshow(x)\n",
        "plt.show()"
      ],
      "metadata": {
        "id": "QgzkRO9qTGpA"
      },
      "execution_count": null,
      "outputs": []
    },
    {
      "cell_type": "code",
      "source": [
        "def get_gen_loss(gen, disc, real, condition, adv_criterion, recon_criterion, lambda_recon):\n",
        "\n",
        "    fake = gen(condition)\n",
        "    fake_disc = disc(fake, condition)\n",
        "    gen_adv_loss = adv_criterion(fake_disc, torch.ones_like(fake_disc))\n",
        "    gen_rec_loss = recon_criterion(real, fake)\n",
        "    gen_loss = gen_adv_loss + lambda_recon * gen_rec_loss\n",
        "\n",
        "    return gen_loss"
      ],
      "metadata": {
        "id": "G6Vfql3ATBh2"
      },
      "execution_count": null,
      "outputs": []
    },
    {
      "cell_type": "code",
      "source": [
        "from skimage import color\n",
        "import numpy as np\n",
        "\n",
        "def train(save_model=False):\n",
        "    mean_generator_loss = 0\n",
        "    mean_discriminator_loss = 0\n",
        "    dataloader = DataLoader(dataset, batch_size=batch_size, shuffle=True)\n",
        "    cur_step = 0\n",
        "\n",
        "    for epoch in range(n_epochs):\n",
        "        # Dataloader returns the batches\n",
        "        for ab, gray in tqdm(dataloader):\n",
        "            cur_batch_size = len(gray)\n",
        "            condition = gray.to(device)\n",
        "            real = ab.to(device)\n",
        "\n",
        "            ### Update discriminator ###\n",
        "            disc_opt.zero_grad() # Zero out the gradient before backpropagation\n",
        "            with torch.no_grad():\n",
        "                fake = gen(condition)\n",
        "            disc_fake_hat = disc(fake.detach(), condition) # Detach generator\n",
        "            disc_fake_loss = adv_criterion(disc_fake_hat, torch.zeros_like(disc_fake_hat))\n",
        "            disc_real_hat = disc(real, condition)\n",
        "            disc_real_loss = adv_criterion(disc_real_hat, torch.ones_like(disc_real_hat))\n",
        "            disc_loss = (disc_fake_loss + disc_real_loss) / 2\n",
        "            disc_loss.backward(retain_graph=True) # Update gradients\n",
        "            disc_opt.step() # Update optimizer\n",
        "\n",
        "            ### Update generator ###\n",
        "            gen_opt.zero_grad()\n",
        "            gen_loss = get_gen_loss(gen, disc, real, condition, adv_criterion, recon_criterion, lambda_recon)\n",
        "            gen_loss.backward() # Update gradients\n",
        "            gen_opt.step() # Update optimizer\n",
        "\n",
        "            # Keep track of the average discriminator loss\n",
        "            mean_discriminator_loss += disc_loss.item() / display_step\n",
        "            # Keep track of the average generator loss\n",
        "            mean_generator_loss += gen_loss.item() / display_step\n",
        "\n",
        "            ### Visualization code ###\n",
        "            if (cur_step % (5*display_step) == 0) and (epoch==0 or (epoch%10)==0):\n",
        "                if cur_step > 0:\n",
        "                    print(f\"Epoch {epoch}: Step {cur_step}: Generator (U-Net) loss: {mean_generator_loss}, Discriminator loss: {mean_discriminator_loss}\")\n",
        "                else:\n",
        "                    print(\"Pretrained initial state\")\n",
        "                \n",
        "                f, axrr = plt.subplots(2, batch_size)\n",
        "                for i in range(2):\n",
        "                    for j in range(batch_size):\n",
        "                        x = torch.cat((gray[j],fake.detach().cpu()[j]),0).numpy().transpose((1,2,0))\n",
        "                        x[:,:,0:1] = x[:, :, 0:1] * 100\n",
        "                        x[:, :, 1:3] = x[:, :, 1:3] * 255 - 128\n",
        "\n",
        "                        if i == 0:\n",
        "                            axrr[i,j].imshow(gray.squeeze().numpy()[j], cmap = \"gray\")\n",
        "                        else:\n",
        "                            axrr[i,j].imshow(color.lab2rgb(x.astype(np.float64)))\n",
        "                plt.show()\n",
        "                mean_generator_loss = 0\n",
        "                mean_discriminator_loss = 0\n",
        "                # You can change save_model to True if you'd like to save the model\n",
        "                if save_model:\n",
        "                    torch.save({'gen': gen.state_dict(),\n",
        "                        'gen_opt': gen_opt.state_dict(),\n",
        "                        'disc': disc.state_dict(),\n",
        "                        'disc_opt': disc_opt.state_dict()\n",
        "                    }, f\"pix2pix_{cur_step}.pth\")\n",
        "            cur_step += 1\n",
        "train()"
      ],
      "metadata": {
        "id": "moMLC6lNpr6I"
      },
      "execution_count": null,
      "outputs": []
    }
  ]
}